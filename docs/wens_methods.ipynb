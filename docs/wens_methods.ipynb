{
 "cells": [
  {
   "cell_type": "code",
   "execution_count": null,
   "metadata": {},
   "outputs": [],
   "source": [
    "%pip install Datasets"
   ]
  },
  {
   "cell_type": "markdown",
   "metadata": {},
   "source": [
    "# Wens Method\n",
    "This a method to generate numerical representation fo DNA that takes into account both local and global information. The method is based on (this)[https://www.ncbi.nlm.nih.gov/pmc/articles/PMC5953932/] paper. The method is based on a weighted graphical representation of a sequence. "
   ]
  },
  {
   "cell_type": "markdown",
   "metadata": {},
   "source": [
    "### Graphical Representation\n",
    "We can represent a DNA sequence as the sum of its component sequences(A,T,C,G). These subsequences can themselves be represented graphically. "
   ]
  },
  {
   "cell_type": "code",
   "execution_count": 49,
   "metadata": {},
   "outputs": [],
   "source": [
    "import re\n",
    "from datasets import load_dataset\n",
    "import numpy as np\n",
    "import matplotlib.pyplot as plt\n",
    "\n",
    "# Loading an example dataset\n",
    "dataset = load_dataset(\"Hack90/virus_10kbp_50kbp\")\n",
    "\n",
    "# List of virus names\n",
    "viruses = ['Dengue', 'Zika', 'Chikungunya', 'West Nile']\n",
    "\n",
    "# Dictionary comprehension to filter dataset and get sequences\n",
    "virus_sequences = {virus: dataset['train'].filter(lambda example: virus.lower() in example['description'].lower())['sequence'] for virus in viruses}\n",
    "\n",
    "# Compile a regular expression that matches characters that are not 'a', 't', 'c', or 'g'\n",
    "invalid_chars_re = re.compile('[^atcg]', re.IGNORECASE)\n",
    "\n",
    "# Use the regular expression to remove invalid characters from the sequences\n",
    "virus_sequences = {virus: [invalid_chars_re.sub('', seq.lower()) for seq in virus_sequences[virus]] for virus in virus_sequences}\n",
    "\n",
    "# Calculate the minimum sequence length\n",
    "lowest_length = min(len(seq) for seq in virus_sequences.values())\n",
    "\n",
    "# splitting sequences into subsequences of a,t,c,g\n",
    "def _get_subsequences(sequence):\n",
    "    subsequences_values = list(map(lambda x: [i+1 for i, nuc in enumerate(sequence) if nuc == x], 'actg'))\n",
    "    subsequences_key = ['A', 'C', 'T', 'G']\n",
    "    subsequences = dict(zip(subsequences_key, subsequences_values))\n",
    "    return subsequences\n",
    "\n",
    "def _calculate_coordinates_fixed(subsequence, L = lowest_length):\n",
    "    coordinates = []\n",
    "    for K in subsequence:\n",
    "        theta = ((2 * np.pi) / (L - 1)) * (K-1)\n",
    "        rho = np.sqrt(theta)\n",
    "        coordinates.append((theta, rho))\n",
    "    return coordinates\n",
    "\n",
    "def _plot_coordinates(subsequences, virus):\n",
    "    fig, ax = plt.subplots(subplot_kw={'projection': 'polar'})\n",
    "    for subsequence, coordinates in subsequences.items():\n",
    "        theta, r = zip(*coordinates)\n",
    "        ax.plot(theta, r, label=subsequence)\n",
    "    ax.grid(True)\n",
    "    ax.set_title(f\"{virus}\", va='bottom')\n",
    "    ax.legend()\n",
    "    plt.show()\n",
    "    \n",
    "    \n",
    "for virus in virus_sequences:\n",
    "        sequence =  virus_sequences[virus][0]\n",
    "        subsequences = _get_subsequences(sequence)\n",
    "        coordinates = {subsequence: _calculate_coordinates_fixed(subsequences[subsequence]) for subsequence in subsequences}\n",
    "        _plot_coordinates(coordinates, virus)"
   ]
  },
  {
   "cell_type": "markdown",
   "metadata": {},
   "source": [
    "We can add a weighting to our sequences. This weighting would measure repetition and compactness. "
   ]
  },
  {
   "cell_type": "code",
   "execution_count": 42,
   "metadata": {},
   "outputs": [
    {
     "data": {
      "text/plain": [
       "[0,\n",
       " 0.16666666666666666,\n",
       " 0.16666666666666666,\n",
       " 0.16666666666666666,\n",
       " 0.16666666666666666,\n",
       " 0.16666666666666666,\n",
       " 0.16666666666666666,\n",
       " 0.8333333333333334,\n",
       " 1.0,\n",
       " 0,\n",
       " 0]"
      ]
     },
     "execution_count": 42,
     "metadata": {},
     "output_type": "execute_result"
    }
   ],
   "source": [
    "def _calculate_weighting_full(sequence, weights, L = 5000, E = 0.0375):\n",
    "    weightings = [0]  # Starting with a default weight for the first nucleotide\n",
    "    for i in range(1, len(sequence) - 1):  # Adjusted to handle up to the penultimate nucleotide\n",
    "        if i < len(sequence) - 2:  # Ensure there's room for comparison\n",
    "            subsequence = sequence[i-1:i+3]\n",
    "            subsequence_1 = subsequence[1]\n",
    "            subsequence_0 = '1' if subsequence[0] == subsequence_1 else '0'\n",
    "            subsequence_2 = '1' if subsequence[2] == subsequence_1 else '0'\n",
    "            subsequence_3 = '1' if subsequence[3] == subsequence_1 else '0'\n",
    "            comparison_pattern = subsequence_0 + '1' + subsequence_2 + subsequence_3\n",
    "            weight = weights.get(comparison_pattern, 0)# Use .get to safely handle missing patterns\n",
    "            if i > L: \n",
    "                weight = weight * E # this is a simple way to decrease the weight of the nucleotides that are far from minimal sequence length\n",
    "        else:\n",
    "            # For the last two nucleotides, where a full comparison isn't possible\n",
    "            weight = 0\n",
    "        weightings.append(weight)\n",
    "    weightings.append(0)  # Adding a default weight for the last nucleotide\n",
    "\n",
    "    return weightings\n",
    "\n",
    "# Testing the weighting function\n",
    "weights = {'0100': 1/6, '0101': 2/6, '1100' : 3/6, '0110':3/6, '1101': 4/6, '1110': 5/6,'0111':5/6, '1111': 6/6}\n",
    "_calculate_weighting_full('atcgtcgaaaa', weights)\n"
   ]
  },
  {
   "cell_type": "code",
   "execution_count": 43,
   "metadata": {},
   "outputs": [],
   "source": [
    "def _centre_of_mass(polar_coordinates, weightings):\n",
    "    standard_cordinates = _calculate_standard_coordinates(polar_coordinates)\n",
    "    x, y = standard_cordinates\n",
    "    total = 0 \n",
    "    for i in range(len(x)):\n",
    "        total += (weightings[i] * ((x[i] - (x[i]*weightings[i]))**2 + (y[i] - y[i]*weightings[i])**2))\n",
    "    return total\n",
    "        \n",
    "def normalised_moment_of_inertia(polar_coordinates, weightings):\n",
    "    moment = _centre_of_mass(polar_coordinates, weightings)\n",
    "    moment = moment / sum(weightings)\n",
    "    moment = np.sqrt(moment)\n",
    "    return moment"
   ]
  },
  {
   "cell_type": "code",
   "execution_count": 46,
   "metadata": {},
   "outputs": [],
   "source": [
    "# Adjust the _calculate_standard_coordinates function to handle the correct data structure\n",
    "def _calculate_standard_coordinates(polar_coordinates):\n",
    "    x = [rho * np.cos(theta) for theta, rho in polar_coordinates]\n",
    "    y = [rho * np.sin(theta) for theta, rho in polar_coordinates]\n",
    "    return (x, y)\n",
    "\n",
    "def similarity(normalised_moment_of_inertia_1:list, normalised_moment_of_inertia_2:list):\n",
    "    total = 0\n",
    "    for i in range(len(normalised_moment_of_inertia_1)):\n",
    "        total += (normalised_moment_of_inertia_1[i] - normalised_moment_of_inertia_2[i])**2\n",
    "    total = np.sqrt(total)\n",
    "    return total\n",
    "\n",
    "def _moments_of_inertia(polar_coordinates, weightings):\n",
    "    moments = []\n",
    "    for subsequence, indices in polar_coordinates.items():\n",
    "        moments.append(normalised_moment_of_inertia(indices, weightings))     \n",
    "    return moments\n",
    "\n",
    "def moment_of_inertia(sequence, weights, L = 5000, E = 0.0375):\n",
    "    subsequences = _get_subsequences(sequence)\n",
    "    polar_coordinates = {subsequence: _calculate_coordinates_fixed(indices, len(virus_sequences['Dengue'][0]), L=L) for subsequence, indices in subsequences.items()}\n",
    "    weightings = _calculate_weighting_full(sequence, weights)\n",
    "    moments = _moments_of_inertia(polar_coordinates, weightings)\n",
    "    return moments    "
   ]
  },
  {
   "cell_type": "code",
   "execution_count": 47,
   "metadata": {},
   "outputs": [
    {
     "ename": "TypeError",
     "evalue": "_get_subsequences() got an unexpected keyword argument 'L'",
     "output_type": "error",
     "traceback": [
      "\u001b[0;31m---------------------------------------------------------------------------\u001b[0m",
      "\u001b[0;31mTypeError\u001b[0m                                 Traceback (most recent call last)",
      "Cell \u001b[0;32mIn[47], line 1\u001b[0m\n\u001b[0;32m----> 1\u001b[0m dengue \u001b[38;5;241m=\u001b[39m \u001b[43mmoment_of_inertia\u001b[49m\u001b[43m(\u001b[49m\u001b[43mvirus_sequences\u001b[49m\u001b[43m[\u001b[49m\u001b[38;5;124;43m'\u001b[39;49m\u001b[38;5;124;43mDengue\u001b[39;49m\u001b[38;5;124;43m'\u001b[39;49m\u001b[43m]\u001b[49m\u001b[43m[\u001b[49m\u001b[38;5;241;43m0\u001b[39;49m\u001b[43m]\u001b[49m\u001b[43m,\u001b[49m\u001b[43m \u001b[49m\u001b[43mweights\u001b[49m\u001b[43m)\u001b[49m\n\u001b[1;32m      2\u001b[0m zika \u001b[38;5;241m=\u001b[39m moment_of_inertia(virus_sequences[\u001b[38;5;124m'\u001b[39m\u001b[38;5;124mChikungunya\u001b[39m\u001b[38;5;124m'\u001b[39m][\u001b[38;5;241m98\u001b[39m], weights)\n\u001b[1;32m      3\u001b[0m \u001b[38;5;28mprint\u001b[39m(similarity(dengue, zika))\n",
      "Cell \u001b[0;32mIn[46], line 21\u001b[0m, in \u001b[0;36mmoment_of_inertia\u001b[0;34m(sequence, weights, L, E)\u001b[0m\n\u001b[1;32m     20\u001b[0m \u001b[38;5;28;01mdef\u001b[39;00m \u001b[38;5;21mmoment_of_inertia\u001b[39m(sequence, weights, L \u001b[38;5;241m=\u001b[39m \u001b[38;5;241m5000\u001b[39m, E \u001b[38;5;241m=\u001b[39m \u001b[38;5;241m0.0375\u001b[39m):\n\u001b[0;32m---> 21\u001b[0m     subsequences \u001b[38;5;241m=\u001b[39m \u001b[43m_get_subsequences\u001b[49m\u001b[43m(\u001b[49m\u001b[43msequence\u001b[49m\u001b[43m,\u001b[49m\u001b[43m \u001b[49m\u001b[43mL\u001b[49m\u001b[43m \u001b[49m\u001b[38;5;241;43m=\u001b[39;49m\u001b[43m \u001b[49m\u001b[43mL\u001b[49m\u001b[43m,\u001b[49m\u001b[43m \u001b[49m\u001b[43mE\u001b[49m\u001b[43m \u001b[49m\u001b[38;5;241;43m=\u001b[39;49m\u001b[43m \u001b[49m\u001b[43mE\u001b[49m\u001b[43m)\u001b[49m\n\u001b[1;32m     22\u001b[0m     polar_coordinates \u001b[38;5;241m=\u001b[39m {subsequence: _calculate_coordinates_fixed(indices, \u001b[38;5;28mlen\u001b[39m(virus_sequences[\u001b[38;5;124m'\u001b[39m\u001b[38;5;124mDengue\u001b[39m\u001b[38;5;124m'\u001b[39m][\u001b[38;5;241m0\u001b[39m])) \u001b[38;5;28;01mfor\u001b[39;00m subsequence, indices \u001b[38;5;129;01min\u001b[39;00m subsequences\u001b[38;5;241m.\u001b[39mitems()}\n\u001b[1;32m     23\u001b[0m     weightings \u001b[38;5;241m=\u001b[39m _calculate_weighting_full(sequence, weights)\n",
      "\u001b[0;31mTypeError\u001b[0m: _get_subsequences() got an unexpected keyword argument 'L'"
     ]
    }
   ],
   "source": [
    "dengue = moment_of_inertia(virus_sequences['Dengue'][0], weights)\n",
    "zika = moment_of_inertia(virus_sequences['Chikungunya'][98], weights)\n",
    "print(similarity(dengue, zika))"
   ]
  },
  {
   "cell_type": "code",
   "execution_count": 26,
   "metadata": {},
   "outputs": [
    {
     "data": {
      "text/plain": [
       "'tagaaagagtgtgagcaaattacatgtacttgtgcataaattcagcagtaatgtataatgatctaaattaaataaaaaatttaaatagttttttaaatatgaggatgctgattttgagagccactcccagatgagcaaggcgcatgcccttctcggaggaccaacctagggacttggttcaggtgggtggtgttttaattccattagggaaaatgatgccctgtaaatcgacgagcagttggaccgacaagaacagtttcgactcggaagcttgcttaacgtagtgctgacagttttttattagagagcagatttctgatgaacaaccaacggaaaaagacgggaaaaccgtctatcaatatgctgaaacgcgtgagaaaccgtgtgtcaactggatcacagttggcgaagagattctcaagaggattgctgaacggccaaggaccaatgaaattggttatggctttcatagctttcctcagatttctagccattccaccaacagcaggagtcttggctagatggggaaccttcaagaagtcaggggctattaaggtcctaaaaggcttcaagagggagatttcaaacatgctgagcattatcaacaaaaggaaaaagacatcgctctgcctcatgatgatgttaccagcaacacttgctttccacttgacttcacgcgatggagagccgcgcatgattgtggggaagaatgaaagagggaaatccctactttttaagacagctactggaatcaacatgtgcacactcatagctatggacttgggagagatgtgtgatgacacggtcacttataaatgccccctcattgccgaagtggaacctgaagacattgactgctggtgcaaccttacatcgacatgggtgacttacggaacgtgcaatcaagctggggagcatagacgcgacaagagatcagtggcgttagctccccatgtcggcatgggactggacacacgtacccaaacctggatgtcggctgaaggagcttggagacaagtcgagaaggtagagacatgggctcttaggcacccaggtttcaccatactagctctatttcttgctcattacataggcacttccctgatccagaaagtggtcatttttatactactaatgctggtcactccatccatgacaatgagatgcgtgggagtaggaaacagagattttgtggaaggtctgtcaggagctacgtgggttgatgtggtgctagagcacggtgggtgtgtgaccaccatggctaagaacaagcctacgctggacatagagcttcagaagaccgaggccacccaactggcgaccctaaggaagttatgcattgagggaaaaattaccaacataacaactgactcaaggtgtcctacccagggggaagcgattttacctgaggagcaggaccagaactacgtatgtaagcacacatacgtggatagaggttggggaaacggttgtggtttgtttggaaaaggaagcttggtgacatgcgcgaaatttcaatgtctagaaccaatagagggaaaagtggtgcaatacgagaacctcaaatacactgtcatcatcacagtgcacacaggagaccaacaccaggtgggaaatgacacacagggagtcacggttgagataacaccccaggcatcaaccgttgaagctgtcttgcctgagtatggaacccttgggctagaatgctcaccacggacaggcttggatttcaatgaaatgattttattgacaatgaagaacaaagcctggatggtacataggcaatggttctttgacctacccctaccatggacatcaggagcaacaacagagacaccaacttggaacaggaaagagcttcttgtaacattcaaaaatgcacatgcaaaaaagcaagaagtagttgtccttggatcgcaagagggagcaatgcacacagcgctgacaggagctacggagattcaaaactcaggaggtacaagcattttcgcggggcacttgaaatgtaggcttaagatggacaaattggaactcaaggggatgagctatgcaatgtgcttgaatacctttgtgttgaagaaagaagtctccgagacgcagcatgggacaatactcattaaggttgagtacaaaggggaagatgcaccttgcaagattcctttctccacagaggatggacaagggaaagcccacaatggtagactgattacagccaacccagtggtgactaagaaggaggagcctgtcaacattgaggctgaacctccttttggggaaagcaacatagtgattggaattggagacaaagccttgaaaattaactggtacaagaagggaagctcgattgggaagatgtttgaggccactgccagaggtgcaaggcgcatggccatcttgggagacacagcctgggactttggttcagtgggtggtgttctaaattcattagggaaaatggtgcaccaaatattcggaagcgcttacacagccctgtttagcggagtctcatggataatgaaaattggaataggtgtcctcttaacctggatagggttgaattcaaaaaacacttccatgtcattttcatgcattgtgataggaattattacactctatctgggagccgtggtacaagctgacatggggtgtgtcataaactggaaaggaaaagaactcaaatgtggaagtggaattttcgtcactaatgaggtccacacctggacagagcaatacaaatttcaagcagactcccctaaaagactggcgacagccatcgcaggcgcttgggaaaatggagtctgtggaatcaggtcaacaaccagaatggagaatctattgtggaagcaaatagccaatgagctgaactacatattatgggaaaacaacatcaaattaacggtagttgtgggcgacataattggggtcttagagcaagggaaaagaacactaacaccacagcccatggagctaaaatattcatggaaaacatggggaaaggcaaaaatagtgacagctgaaacacaaaattcctctttcataatagatgggccaaacacaccggagtgtccaagtgcctcaagagcatggaatgtgtgggaggtggaagattacgggtttggagtcttcacaaccaacatatggctgaaactccgagaggtgtacacccaatcatgtgaccataggctaatgtcggcagccatcaaagatgagagggccgtgcatgccgacatgggctattggatagaaagccaaaagaatggaagttggaagctagaaaaagcatccttcatagaggtgaaaacctgtacttggccaaaatcacacactctttggagcaatggtgtactagagagtgacatgatcatcccaaagagtctagctggtcctatttcacaacacaatcacaggcccgggtaccacacccaaacggcaggaccttggcacttgggaaaactggagctggatttcaactattgtgaaggaacaacagtagtcatcacagaaaactgtgggacaagaggcccatcattgagaacaacaacagtgtcagggaagctgatacacgagtggtgttgccgctcgtgcacacttcctcccttgcgatacatgggagaggacggctgctggtatggcatggaaattagacctatcaatgagaaagaagagaacatggtaaagtctttagtctcagcagggagtggaaaggtggacaacttcacaatgggagtactgtgtttggcaatcctcttcgaagaggtgatgagaggaaaatttgggaaaaaacacatgattgcaggggttctcttcacgtttgtgctccttctctcagggcaaataacatggagagatatggcacacacactcataatgattgggtccaacgcttctgacaggatgggaatgggcgttacctacctagctttaattgcaacattcaaaatccagccattcttggctttgggattcttcctgaggaaattgacatctagagaaaatttgctgttgggagttgggttggccatggcaacaacgttacaactgccagaggacattgaacaaatggcgaatggaattgctctggggctcatgactctaaaactgataacacaatttgagacatatcagttgtggacggcactagtctccttaacatgttcaaacacaatcttcacgttgactgttgcctggagaacagccaccttgattctggccggagtttcgcttttgccactgtgccagtcttcgagcatgaggaaaacagattggctcccaatgactgtggcagctatgggagttccacccttaccactttttatcttcagcttgaaggacgcacccaaaaggaggagctggccactgaatgagggagtgatggctgtcgggcttgtgagcattctggctagttctctccttaggaatgatgtgcccatggctggaccactagtggccgggggcttgttgatagcgtgctatgtcataactggcacgtcagcagacctcactgtagaaaaagcagcagatgtaacatgggaggaagaggctgagcaaacaggagtgtcccacaatttgatgatcacagttgatgatgatggaacaatgagaataaaggatgatgagactgagaacatcctaacagtgctcttaaaaacagcattactaatagtatcaggcatctttccatactccatacccgccacactgttggtctggcatacttggcaaaagcaaacccaaagatctggcgttctatgggacgtacccagccccccagaaacacagaaagcagaactggaagagggggtctataggatcaaacaacaaggaatctttgggaaaacccaagtgggggttggagtgcagaaagaaggagtcttccacaccatgtggcacgtcacaagaggggcagtgttgacgcacaatgggaaaagactggaaccaaactgggcaagtgtgaaaaaagacctgatttcatacggaggaggatggagattgagcacacaatggcaaaagggagaggaggtgcaggttattgccgtagagcctgggaagaacccaaaaaactttcaaaccatgccgggcatttttcagacaacaacgggggaaataggagcaattgcactagacttcaagcctggaacttcaggatctcctatcataaacagagagggaaaggtagtgggattgtatggcaatggagtggttacaaaaaatggtggctacgtcagtggaatagcgcaaacaaatgcagaaccagacggaccgacaccggaattggaagaagaaatgttcaaaaagcgaaatctaaccataatggatcttcatcctgggtcaggaaagacgcggaaatatcttccagccatcgtcagagaagcaatcaagagacgcttaagaactctaattttggcaccaacaagagtggttgcagctgagatggaagaagcactgaaaggactcccaataagatatcaaacaaccgcaacaaaatctgaacacacaggaagggagattgttgatctaatgtgccacgcaacattcacaatgcgcttgctatcaccagtcagggttccaaattacaatttgataataatggatgaggcccatttcacagatccagccagtatagcggctagagggtacatatcaactcgtgtaggaatgggagaggcagctgcaattttcatgacagcaacaccccctggaactgctgaagcctttccccagagcaacgctccaattcaagatgaagaaagggatattccggaacgctcgtggaattcaggcaatgaatggattaccgactttgttgggaagacggtgtggtttgtccctagcatcaaagccggaaatgacatagcaaactgcctgcgaaaaaatggaaaaaaggtcatccaacttagtaggaagacttttgatacagaatatcaaaagaccagactgaatgattgggacttcgtggtgacaacagacatttcagaaatgggagctaactttaaagcagatagagtgattgacccaagaagatgtctcaagccagtaattttgacagatggacccgagcgagtgatcctggccggaccaatgccagtcaccgcagcaagcgctgcgcaaaggagagggagagttggcaggaacccacaaaaagaaaatgaccagtacatattcacgggccagcctcttaacaatgacgaagaccatgctcactggacagaagcaaaaatgctgctagacaacatcaacacaccagaagggatcataccagctctctttgaaccagagagggagaagtcagccgccatagacggtgaataccgcctgaagggtgagtccaggaagaccttcgtggaactcatgaggaggggtgacctcccagtttggctagcccataaagtagcctcagaagggatcaaatacacagatagaaaatggtgctttgatggagaacgtaataaccaaattttagaggagaacatggatgtggaaatctggacaaaggaaggagaaaggaaaaaattgagacctaggtggcttgatgcccgcacttattcagatcccttagcactcaaggaattcaaggattttgcagctggcaggaagtcaatcgcccttgatcttgtgacagaaataggaagagtgccttcacacttagcccacagaacgagaaacgccctggacaatttggtgatgctgcacacgtcagaacatggcggtagggcctacaggcatgcagtggaggaactaccagaaacaatggaaacactcctactcttgggactcatgatcttattaacaggtggagcaatgctttttttggtatcaggtaaagggattggaaagactacaataggactcatttgtgttattgtttccagtggcatgctatggatggctgatatcccacttcaatggatcgcgtcggctatagtcctggaatttttcatgatggtgttgctcataccagaaccagaaaaacaaagaactccccaagacaaccaactcgcatatgtcgtgataggcatactcacactggctgcgatagtagcagctaatgaaatgggattattggaaactacaaagagagatttaggaatgtctaaagaaccaggtgttgtttctccaaccagctatttagatgtagacttgcacccagcatcagcctggacattgtacgccgtagccacaacagtaataacaccaatgttgagacataccatagagaattccacagcaaatgtgtccttggcagccatagctaaccaggcagtggtcctgatgggtttagacaaaggatggccaatatcgaaaatggacttaggcgtaccgctactggcactgggctgctattcacaagtgaacccactgactctcacagcggcagtacttctgctagtcacacattatgccattataggtccaggattgcaggctaaagccactcgtgaagctcaaaaaagaacagctgctggaataatgaagaatccaacggtggatgggataatgacaatagacctagatcctgtaatatacgattcaaaattcgaaaagcaactaggacaggtcatgctcctggttctgtgtgcagttcaacttttgttaatgagaacatcatgggccttgtgtgaagctctaaccctagccacaggaccaataacaacactctgggaaggatcacctggaaagttttggaacaccacgatagctgtttccatggctaacatctttagagggagctatctagcaggagctgggcttgctttttctatcatgaaatcagttggaacaggaaggagaggaacggggtcacaaggcgaaaccttaggagaaaagtggaaaaagaaattaaatcagttatcccggaaagagtttgacctttacaagaaatctggaatcactgaagtggatagaacagaagccaaagaagggttgaaaagaggagaaacaacacatcatgccgtgtccagaggcagcgcaaaacttcaatggttcgtggagaggaacatggtcattcccgaaggaagagtcatagacttaggctgtggaagaggaggctggtcatattactgcgcaggactgaaaaaagttacagaagtgcgaggatacacaaaaggcggcccaggacacgaagaaccagtacctatgtctacatacggatggaacatagtcaagttaatgagtggaaaggacgtgttttatcttccacctgaaaagtgtgacaccctattgtgtgacattggagaatcttcaccaagcccaacagtggaagaaagcagaaccataagagttttgaagatggttgagccatggctaaaaaacaaccagttttgcattaaagtattaaacccttacatgccaactgtgattgagcacctagaaagactacaaagaaaatatggaggaatgcttgtgagaaacccactctcacgaaactccacgcatgaaatgtactggatatccaatggtaccggcaacatcgtctcttcagtcaacatggtatccagattgctactgaacagatttacgatgacacataggagacccaccatagagaaagatgtggatttgggagcaggaactcgacatgtcaatgcggaaccagaaacacccaacatggacgtcattggagaaagaataaaaaggatcaaggaggagcatagttcaacatggcactatgatgatgaaaatccttacaaaacgtgggcttaccatggatcctatgaagtcaaagccacaggctcagcctcctccatgataaatggagtcgtgaaactcctcacaaaaccatgggatgtggttcccatggtgacacagatggcaatgacagatacaactccatttgggcagcaaagagtattcaaagagaaagtggacaccaggacacccaggcccatgccagggacaagaaaggttatggagattacagcggaatggctttggagaaccctgggaaggaacaaaaaacccagattgtgcacaagggaagagttcacaaaaaaggtcagaaccaacgcggctatgggagctgttttcacagaggagaaccaatgggatagtgcgagagctgctgttgaggacgaggaattctggaaacttgtggacagagaacgtgaactccacaaattgggcaagtgtggaagctgcgtctacaacatgatgggcaagagagagaagaaacttggagagtttggcaaagcaaaaggcagtagagctatatggtacatgtggttgggagctaggttccttgagttcgaagcactcggatttttaaatgaagaccactggttctcgcgtgaaaactcttacagtggagtagaaggagaaggactgcacaagctgggatacattttaagagacatctctaagatacccggaggagccatgtatgctgatgacacagctggttgggacacaagaataacagaagatgacttgcacaatgaggaaaaaatcacacagcaaatggaccctgaacacagacaattagcgaacgccatattcaagctcacataccaaaacaaagtggtcaaagtacaacgaccaactccaaaaggcacggtaatggacatcatatctaggaaagaccaaagaggcagtggacaggtggggacttatggtctgaacacattcaccaacatggaagcccagttagtcagacagatggaaggagaaggcgtgttgtcgaagacagacctcgaaaaccctcatctgttagagaagaaaatcacacaatggttggaaaacaaaggagtggagagattaaaaagaatggccatcagcggggatgattgcgtggtgaaaccgatcgatgacaggtttgccaatgccctgcttgccctgaacgacatgggaaaggttaggaaggacatacctcaatggcagccatcaaaggggtggcatgattggcaacaagtccctttctgctcccaccactttcatgaactgatcatgaaagatggaagaaagttggtggttccctgcagaccccaggacgaactaataggaagggcgagaatttctcaaggagcaggatggagccttaaagaaactgcatgtctagggaaagcctacgctcaaatgtggagtctcatgtattttcacagaagagatcttagactggcatccaacgccatttgttcagcagtgccagtccattgggtccctacgagcagaacgacatggtctattcacgctcaccatcagtggatgactacagaagacatgcttactgtctggaacagggtgtggatagaggacaatccatggatggaagacaaaactccagtcacaacttgggaagatgttccatacctagggaagagagaagatcaatggtgcggatcactcattggtctcacttccagagcaacctgggcccagaacatactcacagcaatccaacaggtgagaagccttataggcgatgaagaatttctggactacatgccttcgatgaagagattcaggaaggaggaggagtcagagggagccatttggtaaacaaaggaagtaaaaaagaggcaaactgtcaggccaccttaagccacagtacggaagaagctgtgcagcctgtgagccccgtccaaggacgttaaaagaagaagtcaggcccaaaagccacggtttgagcaaaccgtgctgcctgtagctccgtcgtggggacgtaaagcctgggaggctgcaaaccgtggaagctgtacgcacggtgtagcagactagcggttagaggagacccctcccatgacacaacgcagcagcggggcccgagcactgagggaagctgtacctccctgcaaaggtctaccctttttctggagaa'"
      ]
     },
     "execution_count": 26,
     "metadata": {},
     "output_type": "execute_result"
    }
   ],
   "source": [
    "virus_sequences['Dengue'][0]"
   ]
  }
 ],
 "metadata": {
  "kernelspec": {
   "display_name": "Python 3",
   "language": "python",
   "name": "python3"
  },
  "language_info": {
   "codemirror_mode": {
    "name": "ipython",
    "version": 3
   },
   "file_extension": ".py",
   "mimetype": "text/x-python",
   "name": "python",
   "nbconvert_exporter": "python",
   "pygments_lexer": "ipython3",
   "version": "3.10.13"
  }
 },
 "nbformat": 4,
 "nbformat_minor": 2
}
